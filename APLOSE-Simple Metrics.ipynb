{
 "cells": [
  {
   "cell_type": "markdown",
   "metadata": {},
   "source": [
    "# APLOSE Simple analysis"
   ]
  },
  {
   "cell_type": "markdown",
   "metadata": {},
   "source": [
    "## How to get a first insight on an APLOSE annotation campaign?\n"
   ]
  },
  {
   "cell_type": "markdown",
   "metadata": {},
   "source": [
    "#### Import all needed Python modules"
   ]
  },
  {
   "cell_type": "code",
   "execution_count": 1,
   "metadata": {},
   "outputs": [],
   "source": [
    "import glob\n",
    "import os\n",
    "import pandas as pd\n",
    "import numpy as np\n",
    "import matplotlib.pyplot as plt\n",
    "from datetime import datetime\n",
    "import re\n",
    "from collections import Counter"
   ]
  },
  {
   "cell_type": "markdown",
   "metadata": {},
   "source": [
    "### Rearrange DCLDE annotations to match collaborative annotation format"
   ]
  },
  {
   "cell_type": "code",
   "execution_count": 2,
   "metadata": {},
   "outputs": [
    {
     "ename": "FileNotFoundError",
     "evalue": "[Errno 2] File b'../csvs_dir/annota_campaign_50h.csv' does not exist: b'../csvs_dir/annota_campaign_50h.csv'",
     "output_type": "error",
     "traceback": [
      "\u001b[0;31m---------------------------------------------------------------------------\u001b[0m",
      "\u001b[0;31mFileNotFoundError\u001b[0m                         Traceback (most recent call last)",
      "\u001b[0;32m<ipython-input-2-656a0c8a6b25>\u001b[0m in \u001b[0;36m<module>\u001b[0;34m()\u001b[0m\n\u001b[1;32m      9\u001b[0m \u001b[0;31m# Read all annotations from DCLDE and parse dates\u001b[0m\u001b[0;34m\u001b[0m\u001b[0;34m\u001b[0m\u001b[0;34m\u001b[0m\u001b[0m\n\u001b[1;32m     10\u001b[0m \u001b[0mdateparse\u001b[0m \u001b[0;34m=\u001b[0m \u001b[0;32mlambda\u001b[0m \u001b[0mx\u001b[0m\u001b[0;34m:\u001b[0m \u001b[0mpd\u001b[0m\u001b[0;34m.\u001b[0m\u001b[0mdatetime\u001b[0m\u001b[0;34m.\u001b[0m\u001b[0mstrptime\u001b[0m\u001b[0;34m(\u001b[0m\u001b[0mx\u001b[0m\u001b[0;34m,\u001b[0m \u001b[0;34m'%Y-%m-%dT%H:%M:%S.%f'\u001b[0m\u001b[0;34m)\u001b[0m\u001b[0;34m\u001b[0m\u001b[0;34m\u001b[0m\u001b[0m\n\u001b[0;32m---> 11\u001b[0;31m \u001b[0mdf_annotations\u001b[0m \u001b[0;34m=\u001b[0m \u001b[0mpd\u001b[0m\u001b[0;34m.\u001b[0m\u001b[0mread_csv\u001b[0m\u001b[0;34m(\u001b[0m\u001b[0mpath_csv_annotations\u001b[0m\u001b[0;34m,\u001b[0m \u001b[0mparse_dates\u001b[0m\u001b[0;34m=\u001b[0m\u001b[0;34m[\u001b[0m\u001b[0;36m3\u001b[0m\u001b[0;34m]\u001b[0m\u001b[0;34m,\u001b[0m \u001b[0mdate_parser\u001b[0m\u001b[0;34m=\u001b[0m\u001b[0mdateparse\u001b[0m\u001b[0;34m)\u001b[0m\u001b[0;34m\u001b[0m\u001b[0;34m\u001b[0m\u001b[0m\n\u001b[0m\u001b[1;32m     12\u001b[0m \u001b[0;31m# Rename columns\u001b[0m\u001b[0;34m\u001b[0m\u001b[0;34m\u001b[0m\u001b[0;34m\u001b[0m\u001b[0m\n\u001b[1;32m     13\u001b[0m \u001b[0mdf_annotations\u001b[0m\u001b[0;34m.\u001b[0m\u001b[0mcolumns\u001b[0m \u001b[0;34m=\u001b[0m \u001b[0;34m[\u001b[0m\u001b[0;34m'Deployment'\u001b[0m\u001b[0;34m,\u001b[0m \u001b[0;34m'Site'\u001b[0m\u001b[0;34m,\u001b[0m \u001b[0;34m'Specie'\u001b[0m\u001b[0;34m,\u001b[0m \u001b[0;34m'start'\u001b[0m\u001b[0;34m,\u001b[0m \u001b[0;34m'end'\u001b[0m\u001b[0;34m,\u001b[0m \u001b[0;34m'annotation'\u001b[0m\u001b[0;34m]\u001b[0m\u001b[0;34m\u001b[0m\u001b[0;34m\u001b[0m\u001b[0m\n",
      "\u001b[0;32m~/anaconda3/lib/python3.6/site-packages/pandas/io/parsers.py\u001b[0m in \u001b[0;36mparser_f\u001b[0;34m(filepath_or_buffer, sep, delimiter, header, names, index_col, usecols, squeeze, prefix, mangle_dupe_cols, dtype, engine, converters, true_values, false_values, skipinitialspace, skiprows, skipfooter, nrows, na_values, keep_default_na, na_filter, verbose, skip_blank_lines, parse_dates, infer_datetime_format, keep_date_col, date_parser, dayfirst, cache_dates, iterator, chunksize, compression, thousands, decimal, lineterminator, quotechar, quoting, doublequote, escapechar, comment, encoding, dialect, error_bad_lines, warn_bad_lines, delim_whitespace, low_memory, memory_map, float_precision)\u001b[0m\n\u001b[1;32m    683\u001b[0m         )\n\u001b[1;32m    684\u001b[0m \u001b[0;34m\u001b[0m\u001b[0m\n\u001b[0;32m--> 685\u001b[0;31m         \u001b[0;32mreturn\u001b[0m \u001b[0m_read\u001b[0m\u001b[0;34m(\u001b[0m\u001b[0mfilepath_or_buffer\u001b[0m\u001b[0;34m,\u001b[0m \u001b[0mkwds\u001b[0m\u001b[0;34m)\u001b[0m\u001b[0;34m\u001b[0m\u001b[0;34m\u001b[0m\u001b[0m\n\u001b[0m\u001b[1;32m    686\u001b[0m \u001b[0;34m\u001b[0m\u001b[0m\n\u001b[1;32m    687\u001b[0m     \u001b[0mparser_f\u001b[0m\u001b[0;34m.\u001b[0m\u001b[0m__name__\u001b[0m \u001b[0;34m=\u001b[0m \u001b[0mname\u001b[0m\u001b[0;34m\u001b[0m\u001b[0;34m\u001b[0m\u001b[0m\n",
      "\u001b[0;32m~/anaconda3/lib/python3.6/site-packages/pandas/io/parsers.py\u001b[0m in \u001b[0;36m_read\u001b[0;34m(filepath_or_buffer, kwds)\u001b[0m\n\u001b[1;32m    455\u001b[0m \u001b[0;34m\u001b[0m\u001b[0m\n\u001b[1;32m    456\u001b[0m     \u001b[0;31m# Create the parser.\u001b[0m\u001b[0;34m\u001b[0m\u001b[0;34m\u001b[0m\u001b[0;34m\u001b[0m\u001b[0m\n\u001b[0;32m--> 457\u001b[0;31m     \u001b[0mparser\u001b[0m \u001b[0;34m=\u001b[0m \u001b[0mTextFileReader\u001b[0m\u001b[0;34m(\u001b[0m\u001b[0mfp_or_buf\u001b[0m\u001b[0;34m,\u001b[0m \u001b[0;34m**\u001b[0m\u001b[0mkwds\u001b[0m\u001b[0;34m)\u001b[0m\u001b[0;34m\u001b[0m\u001b[0;34m\u001b[0m\u001b[0m\n\u001b[0m\u001b[1;32m    458\u001b[0m \u001b[0;34m\u001b[0m\u001b[0m\n\u001b[1;32m    459\u001b[0m     \u001b[0;32mif\u001b[0m \u001b[0mchunksize\u001b[0m \u001b[0;32mor\u001b[0m \u001b[0miterator\u001b[0m\u001b[0;34m:\u001b[0m\u001b[0;34m\u001b[0m\u001b[0;34m\u001b[0m\u001b[0m\n",
      "\u001b[0;32m~/anaconda3/lib/python3.6/site-packages/pandas/io/parsers.py\u001b[0m in \u001b[0;36m__init__\u001b[0;34m(self, f, engine, **kwds)\u001b[0m\n\u001b[1;32m    893\u001b[0m             \u001b[0mself\u001b[0m\u001b[0;34m.\u001b[0m\u001b[0moptions\u001b[0m\u001b[0;34m[\u001b[0m\u001b[0;34m\"has_index_names\"\u001b[0m\u001b[0;34m]\u001b[0m \u001b[0;34m=\u001b[0m \u001b[0mkwds\u001b[0m\u001b[0;34m[\u001b[0m\u001b[0;34m\"has_index_names\"\u001b[0m\u001b[0;34m]\u001b[0m\u001b[0;34m\u001b[0m\u001b[0;34m\u001b[0m\u001b[0m\n\u001b[1;32m    894\u001b[0m \u001b[0;34m\u001b[0m\u001b[0m\n\u001b[0;32m--> 895\u001b[0;31m         \u001b[0mself\u001b[0m\u001b[0;34m.\u001b[0m\u001b[0m_make_engine\u001b[0m\u001b[0;34m(\u001b[0m\u001b[0mself\u001b[0m\u001b[0;34m.\u001b[0m\u001b[0mengine\u001b[0m\u001b[0;34m)\u001b[0m\u001b[0;34m\u001b[0m\u001b[0;34m\u001b[0m\u001b[0m\n\u001b[0m\u001b[1;32m    896\u001b[0m \u001b[0;34m\u001b[0m\u001b[0m\n\u001b[1;32m    897\u001b[0m     \u001b[0;32mdef\u001b[0m \u001b[0mclose\u001b[0m\u001b[0;34m(\u001b[0m\u001b[0mself\u001b[0m\u001b[0;34m)\u001b[0m\u001b[0;34m:\u001b[0m\u001b[0;34m\u001b[0m\u001b[0;34m\u001b[0m\u001b[0m\n",
      "\u001b[0;32m~/anaconda3/lib/python3.6/site-packages/pandas/io/parsers.py\u001b[0m in \u001b[0;36m_make_engine\u001b[0;34m(self, engine)\u001b[0m\n\u001b[1;32m   1133\u001b[0m     \u001b[0;32mdef\u001b[0m \u001b[0m_make_engine\u001b[0m\u001b[0;34m(\u001b[0m\u001b[0mself\u001b[0m\u001b[0;34m,\u001b[0m \u001b[0mengine\u001b[0m\u001b[0;34m=\u001b[0m\u001b[0;34m\"c\"\u001b[0m\u001b[0;34m)\u001b[0m\u001b[0;34m:\u001b[0m\u001b[0;34m\u001b[0m\u001b[0;34m\u001b[0m\u001b[0m\n\u001b[1;32m   1134\u001b[0m         \u001b[0;32mif\u001b[0m \u001b[0mengine\u001b[0m \u001b[0;34m==\u001b[0m \u001b[0;34m\"c\"\u001b[0m\u001b[0;34m:\u001b[0m\u001b[0;34m\u001b[0m\u001b[0;34m\u001b[0m\u001b[0m\n\u001b[0;32m-> 1135\u001b[0;31m             \u001b[0mself\u001b[0m\u001b[0;34m.\u001b[0m\u001b[0m_engine\u001b[0m \u001b[0;34m=\u001b[0m \u001b[0mCParserWrapper\u001b[0m\u001b[0;34m(\u001b[0m\u001b[0mself\u001b[0m\u001b[0;34m.\u001b[0m\u001b[0mf\u001b[0m\u001b[0;34m,\u001b[0m \u001b[0;34m**\u001b[0m\u001b[0mself\u001b[0m\u001b[0;34m.\u001b[0m\u001b[0moptions\u001b[0m\u001b[0;34m)\u001b[0m\u001b[0;34m\u001b[0m\u001b[0;34m\u001b[0m\u001b[0m\n\u001b[0m\u001b[1;32m   1136\u001b[0m         \u001b[0;32melse\u001b[0m\u001b[0;34m:\u001b[0m\u001b[0;34m\u001b[0m\u001b[0;34m\u001b[0m\u001b[0m\n\u001b[1;32m   1137\u001b[0m             \u001b[0;32mif\u001b[0m \u001b[0mengine\u001b[0m \u001b[0;34m==\u001b[0m \u001b[0;34m\"python\"\u001b[0m\u001b[0;34m:\u001b[0m\u001b[0;34m\u001b[0m\u001b[0;34m\u001b[0m\u001b[0m\n",
      "\u001b[0;32m~/anaconda3/lib/python3.6/site-packages/pandas/io/parsers.py\u001b[0m in \u001b[0;36m__init__\u001b[0;34m(self, src, **kwds)\u001b[0m\n\u001b[1;32m   1915\u001b[0m         \u001b[0mkwds\u001b[0m\u001b[0;34m[\u001b[0m\u001b[0;34m\"usecols\"\u001b[0m\u001b[0;34m]\u001b[0m \u001b[0;34m=\u001b[0m \u001b[0mself\u001b[0m\u001b[0;34m.\u001b[0m\u001b[0musecols\u001b[0m\u001b[0;34m\u001b[0m\u001b[0;34m\u001b[0m\u001b[0m\n\u001b[1;32m   1916\u001b[0m \u001b[0;34m\u001b[0m\u001b[0m\n\u001b[0;32m-> 1917\u001b[0;31m         \u001b[0mself\u001b[0m\u001b[0;34m.\u001b[0m\u001b[0m_reader\u001b[0m \u001b[0;34m=\u001b[0m \u001b[0mparsers\u001b[0m\u001b[0;34m.\u001b[0m\u001b[0mTextReader\u001b[0m\u001b[0;34m(\u001b[0m\u001b[0msrc\u001b[0m\u001b[0;34m,\u001b[0m \u001b[0;34m**\u001b[0m\u001b[0mkwds\u001b[0m\u001b[0;34m)\u001b[0m\u001b[0;34m\u001b[0m\u001b[0;34m\u001b[0m\u001b[0m\n\u001b[0m\u001b[1;32m   1918\u001b[0m         \u001b[0mself\u001b[0m\u001b[0;34m.\u001b[0m\u001b[0munnamed_cols\u001b[0m \u001b[0;34m=\u001b[0m \u001b[0mself\u001b[0m\u001b[0;34m.\u001b[0m\u001b[0m_reader\u001b[0m\u001b[0;34m.\u001b[0m\u001b[0munnamed_cols\u001b[0m\u001b[0;34m\u001b[0m\u001b[0;34m\u001b[0m\u001b[0m\n\u001b[1;32m   1919\u001b[0m \u001b[0;34m\u001b[0m\u001b[0m\n",
      "\u001b[0;32mpandas/_libs/parsers.pyx\u001b[0m in \u001b[0;36mpandas._libs.parsers.TextReader.__cinit__\u001b[0;34m()\u001b[0m\n",
      "\u001b[0;32mpandas/_libs/parsers.pyx\u001b[0m in \u001b[0;36mpandas._libs.parsers.TextReader._setup_parser_source\u001b[0;34m()\u001b[0m\n",
      "\u001b[0;31mFileNotFoundError\u001b[0m: [Errno 2] File b'../csvs_dir/annota_campaign_50h.csv' does not exist: b'../csvs_dir/annota_campaign_50h.csv'"
     ]
    }
   ],
   "source": [
    "# Set path to CSV file containing DCLDE annotations for the analyzed subset in the first APLOSE annotation campaign\n",
    "path_csv_annotations = '../csvs_dir/annota_campaign_50h.csv'\n",
    "# Set path to CSV file containing the small wavs dates and names (provided by the administrator user to launch\n",
    "# an annotation campaign).\n",
    "path_files_start = '../csvs_dir/Dataset_files.csv'\n",
    "\n",
    "# Predefined duration of small wavs\n",
    "duration_small_wav = 320  # [s]\n",
    "\n",
    "# Read all annotations from DCLDE and parse dates\n",
    "dateparse = lambda x: pd.datetime.strptime(x, '%Y-%m-%dT%H:%M:%S.%f')\n",
    "df_annotations = pd.read_csv(path_csv_annotations, parse_dates=[3], date_parser=dateparse)\n",
    "\n",
    "# Rename columns\n",
    "df_annotations.columns = ['Deployment', 'Site', 'Specie', 'start', 'end', 'annotation']\n",
    "\n",
    "# Convert string ending times to pandas timestamp\n",
    "df_annotations['end'] = df_annotations['end'].apply(dateparse)\n",
    "\n",
    "# Drop unnecessary columns\n",
    "df_annotations.drop(columns=['Deployment', 'Site', 'Specie'], axis=1, inplace=True)"
   ]
  },
  {
   "cell_type": "code",
   "execution_count": null,
   "metadata": {},
   "outputs": [],
   "source": [
    "# Read CSV file containing filenames and associated starting dates for the campaign\n",
    "dateparse = lambda x: pd.datetime.strptime(x, '\"%Y-%m-%d %H:%M:%S\"') # date parser for the CSV file with small wav dates\n",
    "\n",
    "# Read CSV and parse dates\n",
    "df_file_start = pd.read_csv(path_files_start, sep=', ', usecols=['filename', 'audio_start', 'audio_end'],\n",
    "                            parse_dates=['audio_start'], date_parser=dateparse)\n",
    "\n",
    "# Convert audio starts to timestamps\n",
    "df_file_start['audio_end'] = df_file_start['audio_end'].apply(dateparse)"
   ]
  },
  {
   "cell_type": "code",
   "execution_count": null,
   "metadata": {},
   "outputs": [],
   "source": [
    "# Match small wav filenames with origianl DCLDE annotations.\n",
    "df_annotations[['filename', 'start_time', 'end_time']] = df_annotations.apply(lambda r: row_function(r, df_file_start, duration_small_wav), axis=1)\n",
    "df_annotations.drop(['start', 'end'], axis=1, inplace=True)\n",
    "\n",
    "# Change column order to match the one used in the collaborative campaign\n",
    "cols = df_annotations.columns.tolist()\n",
    "cols = cols[1:] + [cols[0]]\n",
    "df_annotations = df_annotations[cols]\n",
    "\n",
    "# Add a column with the 'annotator', here DCLDE experts\n",
    "df_annotations['annotator'] = \"DCLDE_exp\"\n",
    "# Replace all '40Hz' labels by '40-Hz'\n",
    "df_annotations['annotation'] = df_annotations['annotation'].apply(lambda x: '40-Hz' if x == '40Hz' else 'Dcall')\n",
    "del df_file_start"
   ]
  },
  {
   "cell_type": "markdown",
   "metadata": {},
   "source": [
    "### Process annotation campaign results"
   ]
  },
  {
   "cell_type": "code",
   "execution_count": null,
   "metadata": {},
   "outputs": [],
   "source": [
    "# If you need to update results you can change this number to keep older ones and only analyze new ones\n",
    "nb = 290420\n",
    "\n",
    "# Path to collaborative annotations\n",
    "path_collaborative_annot = '../csvs_dir/DCLDE_LF camapign' + str(nb) + '.csv'\n",
    "\n",
    "# Read collaborative annotations\n",
    "df_collab_annot = pd.read_csv(path_collaborative_annot, usecols=['filename', 'start_time', 'end_time', 'annotation', 'annotator'])\n",
    "\n",
    "# Balcklist annotators (Names of annotators are provided to the administrator\n",
    "# of the campaign, please refer to the user guide for more details)\n",
    "blacklist = ['Sydney', 'Brest', 'Durban', 'Nice', 'Bali', 'Southampton', 'Cadiz']\n",
    "\n",
    "# Remove annotators that did not achieve their annotation campaign\n",
    "df_collab_annot = df_collab_annot[~df_collab_annot.annotator.isin(blacklist)]"
   ]
  },
  {
   "cell_type": "markdown",
   "metadata": {},
   "source": [
    "### Merge all annotations (DCLDE experts and collaborative ones)"
   ]
  },
  {
   "cell_type": "code",
   "execution_count": null,
   "metadata": {},
   "outputs": [],
   "source": [
    "# Concat all results\n",
    "results = pd.concat([df_annotations, df_collab_annot], ignore_index=True)\n",
    "\n",
    "# Store the results in a CSV file\n",
    "results.to_csv('../csvs_dir/result_dataframe' + str(nb) + '.csv', index=False, header=True)"
   ]
  },
  {
   "cell_type": "markdown",
   "metadata": {},
   "source": [
    "### Plot the number of annotations per calls per annotators"
   ]
  },
  {
   "cell_type": "code",
   "execution_count": null,
   "metadata": {},
   "outputs": [],
   "source": [
    "# Remove DCLDE experts from this plot\n",
    "results = results[~results.annotator.isin(['DCLDE_exp'])]\n",
    "annotat = np.unique(results.annotator.values)\n",
    "\n",
    "# Check the number of annotations of each annotator\n",
    "# This will return a two-level index dataframe ['annotator', 'annoatation'] with one column: 'nb_labels'\n",
    "counter_annotator = results.groupby('annotator')['annotation'].apply(Counter).to_frame('nb_labels')"
   ]
  },
  {
   "cell_type": "code",
   "execution_count": null,
   "metadata": {},
   "outputs": [],
   "source": [
    "# Display some infos on the annotations\n",
    "print(counter_annotator.unstack().describe())"
   ]
  },
  {
   "cell_type": "code",
   "execution_count": null,
   "metadata": {},
   "outputs": [],
   "source": [
    "# Plot annotations of each annotator\n",
    "fig, ax = plt.subplots()\n",
    "ax = counter_annotator.unstack().plot(kind='bar', ax=ax)\n",
    "plt.ylabel('Nber of labels')\n",
    "plt.xlabel('Annotator')\n",
    "plt.xticks(rotation=0)\n",
    "ax.set_xticklabels(['A' + str(i) if i > 0 else 'DCLDE_exp' for i in range(len(annotat))])\n",
    "ax.legend([\"D-calls\", \"40-Hz\", \"Unknown call\"])\n",
    "# plt.savefig('../figs/update' + str(nb) + '.png')\n",
    "plt.show()"
   ]
  },
  {
   "cell_type": "markdown",
   "metadata": {},
   "source": [
    "### Plot durations of a task"
   ]
  },
  {
   "cell_type": "code",
   "execution_count": null,
   "metadata": {},
   "outputs": [],
   "source": [
    "# Set path\n",
    "path_csv = '../csvs_dir'\n",
    "\n",
    "# Set the 'nb' for the new results from the annotation campaign\n",
    "nb = 290420\n",
    "\n",
    "# Read all annotations without some annotators\n",
    "name_csv = 'result_dataframe' + str(nb) + '.csv'\n",
    "csv_file = os.path.join(path_csv, name_csv)"
   ]
  },
  {
   "cell_type": "code",
   "execution_count": null,
   "metadata": {},
   "outputs": [],
   "source": [
    "# Path to collaborative annotations (here duration of a task. This CSV file is provided to the administrator)\n",
    "path_collaborative_annot = 'DCLDE_LF campaign_avril2020.csv'\n",
    "# Read collaborative annotations\n",
    "time_results = pd.read_csv(path_collaborative_annot)\n",
    "\n",
    "# Annotators not to keep\n",
    "blacklist = ['DCLDE_exp', 'Sydney', 'Brest', 'Nice', 'Durban', 'Bali', 'Southampton', 'Cadiz']\n",
    "\n",
    "# Remove some annotators\n",
    "time_results = time_results[~time_results['annotator'].isin(blacklist)]\n",
    "\n",
    "# Annotator in the collaborative camapaign\n",
    "annotators = sorted(time_results.annotator.unique().tolist())"
   ]
  },
  {
   "cell_type": "code",
   "execution_count": null,
   "metadata": {},
   "outputs": [],
   "source": [
    "# Sum annotation times if annotators re labels some files\n",
    "df = time_results.drop(['dataset', 'start_time', 'end_time'], axis=1).groupby(['filename', 'annotator']).sum()\n",
    "df.reset_index(drop=True, inplace=True, level=0)\n",
    "\n",
    "# fig, ax = plt.subplots()\n",
    "ax_bp, bp = df.boxplot(column='duration',\n",
    "                       by='annotator',\n",
    "                       return_type='both', showmeans=True)['duration']\n",
    "medians = [median.get_ydata()[0] for median in bp[\"medians\"]]\n",
    "for line in bp['medians']:\n",
    "    # get position data for median line\n",
    "    x, y = line.get_xydata()[1]  # top of median line\n",
    "    # overlay median value\n",
    "    text(x, y, '%.1f' % y,\n",
    "         horizontalalignment='right')\n",
    "ax_bp.set_ylim([0, 500])\n",
    "fig = ax_bp.get_figure()\n",
    "fig.suptitle('')\n",
    "ax_bp.set_title('')\n",
    "ax_bp.set_ylabel('Annotation time [s]')\n",
    "ax_bp.set_xlabel('Annotators')\n",
    "ax_bp.set_xticklabels(['A' + str(i) for i in range(1, len(annotators) + 1)])\n",
    "# plt.savefig(os.path.join(figs_path, 'time_annotators.png'), bbox='tight')\n",
    "\n",
    "# Mean std\n",
    "print(df.groupby('annotator').describe())"
   ]
  },
  {
   "cell_type": "code",
   "execution_count": null,
   "metadata": {},
   "outputs": [],
   "source": [
    "# Display some stats on annotators and highest durations\n",
    "print(df.nlargest(20, columns='duration').groupby('annotator').count())\n",
    "print(df.nlargest(30, columns='duration'))"
   ]
  }
 ],
 "metadata": {
  "kernelspec": {
   "display_name": "Python 3",
   "language": "python",
   "name": "python3"
  },
  "language_info": {
   "codemirror_mode": {
    "name": "ipython",
    "version": 3
   },
   "file_extension": ".py",
   "mimetype": "text/x-python",
   "name": "python",
   "nbconvert_exporter": "python",
   "pygments_lexer": "ipython3",
   "version": "3.6.9"
  }
 },
 "nbformat": 4,
 "nbformat_minor": 2
}
